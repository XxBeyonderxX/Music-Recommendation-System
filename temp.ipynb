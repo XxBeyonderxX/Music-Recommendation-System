{
 "cells": [
  {
   "cell_type": "code",
   "execution_count": 1,
   "metadata": {},
   "outputs": [],
   "source": [
    "import pandas as pd\n",
    "import numpy as np"
   ]
  },
  {
   "cell_type": "code",
   "execution_count": 3,
   "metadata": {},
   "outputs": [
    {
     "data": {
      "text/plain": [
       "28372"
      ]
     },
     "execution_count": 3,
     "metadata": {},
     "output_type": "execute_result"
    }
   ],
   "source": [
    "df = pd.read_csv('./tcc_ceds_music.csv')\n",
    "len(df)"
   ]
  },
  {
   "cell_type": "code",
   "execution_count": 4,
   "metadata": {},
   "outputs": [
    {
     "name": "stdout",
     "output_type": "stream",
     "text": [
      "<class 'pandas.core.frame.DataFrame'>\n",
      "RangeIndex: 28372 entries, 0 to 28371\n",
      "Data columns (total 31 columns):\n",
      " #   Column                    Non-Null Count  Dtype  \n",
      "---  ------                    --------------  -----  \n",
      " 0   Unnamed: 0                28372 non-null  int64  \n",
      " 1   artist_name               28372 non-null  object \n",
      " 2   track_name                28372 non-null  object \n",
      " 3   release_date              28372 non-null  int64  \n",
      " 4   genre                     28372 non-null  object \n",
      " 5   lyrics                    28372 non-null  object \n",
      " 6   len                       28372 non-null  int64  \n",
      " 7   dating                    28372 non-null  float64\n",
      " 8   violence                  28372 non-null  float64\n",
      " 9   world/life                28372 non-null  float64\n",
      " 10  night/time                28372 non-null  float64\n",
      " 11  shake the audience        28372 non-null  float64\n",
      " 12  family/gospel             28372 non-null  float64\n",
      " 13  romantic                  28372 non-null  float64\n",
      " 14  communication             28372 non-null  float64\n",
      " 15  obscene                   28372 non-null  float64\n",
      " 16  music                     28372 non-null  float64\n",
      " 17  movement/places           28372 non-null  float64\n",
      " 18  light/visual perceptions  28372 non-null  float64\n",
      " 19  family/spiritual          28372 non-null  float64\n",
      " 20  like/girls                28372 non-null  float64\n",
      " 21  sadness                   28372 non-null  float64\n",
      " 22  feelings                  28372 non-null  float64\n",
      " 23  danceability              28372 non-null  float64\n",
      " 24  loudness                  28372 non-null  float64\n",
      " 25  acousticness              28372 non-null  float64\n",
      " 26  instrumentalness          28372 non-null  float64\n",
      " 27  valence                   28372 non-null  float64\n",
      " 28  energy                    28372 non-null  float64\n",
      " 29  topic                     28372 non-null  object \n",
      " 30  age                       28372 non-null  float64\n",
      "dtypes: float64(23), int64(3), object(5)\n",
      "memory usage: 6.7+ MB\n"
     ]
    }
   ],
   "source": [
    "df.info()"
   ]
  },
  {
   "cell_type": "code",
   "execution_count": 7,
   "metadata": {},
   "outputs": [
    {
     "data": {
      "text/plain": [
       "'hold time feel break feel untrue convince speak voice tear try hold hurt try forgive okay play break string feel heart want feel tell real truth hurt lie worse anymore little turn dust play house ruin run leave save like chase train late late tear try hold hurt try forgive okay play break string feel heart want feel tell real truth hurt lie worse anymore little run leave save like chase train know late late play break string feel heart want feel tell real truth hurt lie worse anymore little know little hold time feel'"
      ]
     },
     "execution_count": 7,
     "metadata": {},
     "output_type": "execute_result"
    }
   ],
   "source": [
    "df['lyrics'][0]"
   ]
  }
 ],
 "metadata": {
  "kernelspec": {
   "display_name": "Python 3",
   "language": "python",
   "name": "python3"
  },
  "language_info": {
   "codemirror_mode": {
    "name": "ipython",
    "version": 3
   },
   "file_extension": ".py",
   "mimetype": "text/x-python",
   "name": "python",
   "nbconvert_exporter": "python",
   "pygments_lexer": "ipython3",
   "version": "3.11.2"
  },
  "orig_nbformat": 4
 },
 "nbformat": 4,
 "nbformat_minor": 2
}
